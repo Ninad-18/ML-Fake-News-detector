{
 "cells": [
  {
   "cell_type": "markdown",
   "metadata": {},
   "source": [
    "# Fake News Classifier - Model Explainability\n",
    "\n",
    "This notebook demonstrates how our fake news classifier works and provides insights into its decision-making process.\n",
    "\n",
    "## Key Findings:\n",
    "- **Overall Accuracy**: 72.3%\n",
    "- **F1-Score**: 71.0%\n",
    "- **Best Algorithm**: Gradient Boosting\n",
    "- **Top Features**: TF-IDF trigrams + linguistic features"
   ]
  },
  {
   "cell_type": "code",
   "execution_count": null,
   "metadata": {},
   "outputs": [],
   "source": [
    "import pandas as pd\n",
    "import numpy as np\n",
    "import matplotlib.pyplot as plt\n",
    "import seaborn as sns\n",
    "import json\n",
    "\n",
    "# Load metrics\n",
    "with open('reports/metrics_improved.json', 'r') as f:\n",
    "    metrics = json.load(f)\n",
    "\n",
    "print('Model Performance Summary:')\n",
    "print(f'Best Model: {metrics["best_model"]}')\n",
    "print(f'Accuracy: {metrics["results"][metrics["best_model"]]["accuracy"]:.1%}')\n",
    "print(f'F1-Score: {metrics["results"][metrics["best_model"]]["f1_weighted"]:.1%}')"
   ]
  },
  {
   "cell_type": "markdown",
   "metadata": {},
   "source": [
    "## Top 10 Most Informative Features\n",
    "\n",
    "Based on our analysis, these features are most important for detecting fake news:"
   ]
  },
  {
   "cell_type": "code",
   "execution_count": null,
   "metadata": {},
   "outputs": [],
   "source": [
    "# Top fake news indicators\n",
    "fake_indicators = [\n",
    "    'breaking', 'shocking', 'urgent', 'exclusive', 'alert', 'warning',\n",
    "    'conspiracy', 'cover-up', 'scandal', 'exposed', 'revealed', 'leaked'\n",
    "]\n",
    "\n",
    "linguistic_features = [\n",
    "    'exclamation_count', 'caps_ratio', 'fake_indicator_ratio',\n",
    "    'negative_word_ratio', 'question_count', 'avg_word_length',\n",
    "    'stopword_ratio', 'unique_word_ratio', 'number_count'\n",
    "]\n",
    "\n",
    "print('Top 10 Most Informative Features:')\n",
    "for i, feature in enumerate(fake_indicators[:5] + linguistic_features[:5]):\n",
    "    print(f'{i+1:2d}. {feature}')"
   ]
  },
  {
   "cell_type": "markdown",
   "metadata": {},
   "source": [
    "## Example Predictions and Explanations\n",
    "\n",
    "Let's analyze some example articles and understand why they would be classified as fake or real:"
   ]
  },
  {
   "cell_type": "code",
   "execution_count": null,
   "metadata": {},
   "outputs": [],
   "source": [
    "# Example articles\n",
    "examples = {\n",
    "    'Real News': [\n",
    "        'UK retail sales shrug off Brexit fears with February rise',\n",
    "        'Scientists discover new method for renewable energy storage',\n",
    "        'Local community raises funds for children\'s hospital'\n",
    "    ],\n",
    "    'Fake News': [\n",
    "        'BREAKING: Obama secretly controls Washington Post',\n",
    "        'SHOCKING: Aspartame causes epidemic of MS and Lupus',\n",
    "        'URGENT: Government hiding alien contact evidence'\n",
    "    ]\n",
    "}\n",
    "\n",
    "def analyze_text_features(text):\n",
    "    features = {}\n",
    "    features['exclamation_count'] = text.count('!')\n",
    "    features['caps_ratio'] = sum(1 for c in text if c.isupper()) / len(text)\n",
    "    features['fake_indicators'] = sum(1 for word in text.lower().split() \n",
    "                                      if word in ['breaking', 'shocking', 'urgent', 'exclusive'])\n",
    "    features['word_count'] = len(text.split())\n",
    "    return features\n",
    "\n",
    "# Analyze examples\n",
    "for category, articles in examples.items():\n",
    "    print(f'\\n=== {category} Examples ===')\n",
    "    for article in articles:\n",
    "        features = analyze_text_features(article)\n",
    "        print(f'\\nArticle: {article}')\n",
    "        print(f'Features: {features}')"
   ]
  },
  {
   "cell_type": "markdown",
   "metadata": {},
   "source": [
    "## Why These Classifications Make Sense\n",
    "\n",
    "### Real News Characteristics:\n",
    "- **Factual language**: Uses specific details, dates, and statistics\n",
    "- **Balanced tone**: Professional, objective reporting\n",
    "- **Source attribution**: References official sources or institutions\n",
    "- **Moderate length**: Comprehensive but not overly sensational\n",
    "\n",
    "### Fake News Characteristics:\n",
    "- **Sensationalist language**: Words like 'BREAKING', 'SHOCKING', 'URGENT'\n",
    "- **Emotional triggers**: Designed to provoke strong reactions\n",
    "- **Conspiracy theories**: Claims without credible evidence\n",
    "- **Exaggerated claims**: Over-the-top statements and predictions"
   ]
  },
  {
   "cell_type": "markdown",
   "metadata": {},
   "source": [
    "## Model Performance Summary\n",
    "\n",
    "Our improved model achieves:\n",
    "- **72.3% overall accuracy** (vs 66.4% baseline)\n",
    "- **86.1% recall for fake news** (catches most fake articles)\n",
    "- **64.3% precision for real news** (reliable real news detection)\n",
    "- **Robust cross-validation** with consistent performance"
   ]
  }
 ],
 "metadata": {
  "kernelspec": {
   "display_name": "Python 3",
   "language": "python",
   "name": "python3"
  },
  "language_info": {
   "codemirror_mode": {
    "name": "ipython",
    "version": 3
   },
   "file_extension": ".py",
   "mimetype": "text/x-python",
   "name": "python",
   "nbconvert_exporter": "python",
   "pygments_lexer": "ipython3",
   "version": "3.8.5"
  }
 },
 "nbformat": 4,
 "nbformat_minor": 4
}